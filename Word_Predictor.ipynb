{
  "nbformat": 4,
  "nbformat_minor": 0,
  "metadata": {
    "colab": {
      "provenance": [],
      "authorship_tag": "ABX9TyN+adpJSEScFzaWIBEQy/ES",
      "include_colab_link": true
    },
    "kernelspec": {
      "name": "python3",
      "display_name": "Python 3"
    },
    "language_info": {
      "name": "python"
    }
  },
  "cells": [
    {
      "cell_type": "markdown",
      "metadata": {
        "id": "view-in-github",
        "colab_type": "text"
      },
      "source": [
        "<a href=\"https://colab.research.google.com/github/Amisha8899/Machine_Learning_Project/blob/main/Word_Predictor.ipynb\" target=\"_parent\"><img src=\"https://colab.research.google.com/assets/colab-badge.svg\" alt=\"Open In Colab\"/></a>"
      ]
    },
    {
      "cell_type": "code",
      "execution_count": 1,
      "metadata": {
        "id": "xyxEJ3UwYvUH"
      },
      "outputs": [],
      "source": [
        "#install Kaggle\n",
        "!pip install -q kaggle"
      ]
    },
    {
      "cell_type": "code",
      "source": [
        "from google.colab import files\n",
        "files.upload()"
      ],
      "metadata": {
        "colab": {
          "base_uri": "https://localhost:8080/",
          "height": 90
        },
        "id": "WgOcqvrUZLRB",
        "outputId": "9dee1076-3d3f-45ba-ddd6-0907a58063e0"
      },
      "execution_count": 2,
      "outputs": [
        {
          "output_type": "display_data",
          "data": {
            "text/plain": [
              "<IPython.core.display.HTML object>"
            ],
            "text/html": [
              "\n",
              "     <input type=\"file\" id=\"files-a92403f1-d142-433e-8b31-b620c1242883\" name=\"files[]\" multiple disabled\n",
              "        style=\"border:none\" />\n",
              "     <output id=\"result-a92403f1-d142-433e-8b31-b620c1242883\">\n",
              "      Upload widget is only available when the cell has been executed in the\n",
              "      current browser session. Please rerun this cell to enable.\n",
              "      </output>\n",
              "      <script>// Copyright 2017 Google LLC\n",
              "//\n",
              "// Licensed under the Apache License, Version 2.0 (the \"License\");\n",
              "// you may not use this file except in compliance with the License.\n",
              "// You may obtain a copy of the License at\n",
              "//\n",
              "//      http://www.apache.org/licenses/LICENSE-2.0\n",
              "//\n",
              "// Unless required by applicable law or agreed to in writing, software\n",
              "// distributed under the License is distributed on an \"AS IS\" BASIS,\n",
              "// WITHOUT WARRANTIES OR CONDITIONS OF ANY KIND, either express or implied.\n",
              "// See the License for the specific language governing permissions and\n",
              "// limitations under the License.\n",
              "\n",
              "/**\n",
              " * @fileoverview Helpers for google.colab Python module.\n",
              " */\n",
              "(function(scope) {\n",
              "function span(text, styleAttributes = {}) {\n",
              "  const element = document.createElement('span');\n",
              "  element.textContent = text;\n",
              "  for (const key of Object.keys(styleAttributes)) {\n",
              "    element.style[key] = styleAttributes[key];\n",
              "  }\n",
              "  return element;\n",
              "}\n",
              "\n",
              "// Max number of bytes which will be uploaded at a time.\n",
              "const MAX_PAYLOAD_SIZE = 100 * 1024;\n",
              "\n",
              "function _uploadFiles(inputId, outputId) {\n",
              "  const steps = uploadFilesStep(inputId, outputId);\n",
              "  const outputElement = document.getElementById(outputId);\n",
              "  // Cache steps on the outputElement to make it available for the next call\n",
              "  // to uploadFilesContinue from Python.\n",
              "  outputElement.steps = steps;\n",
              "\n",
              "  return _uploadFilesContinue(outputId);\n",
              "}\n",
              "\n",
              "// This is roughly an async generator (not supported in the browser yet),\n",
              "// where there are multiple asynchronous steps and the Python side is going\n",
              "// to poll for completion of each step.\n",
              "// This uses a Promise to block the python side on completion of each step,\n",
              "// then passes the result of the previous step as the input to the next step.\n",
              "function _uploadFilesContinue(outputId) {\n",
              "  const outputElement = document.getElementById(outputId);\n",
              "  const steps = outputElement.steps;\n",
              "\n",
              "  const next = steps.next(outputElement.lastPromiseValue);\n",
              "  return Promise.resolve(next.value.promise).then((value) => {\n",
              "    // Cache the last promise value to make it available to the next\n",
              "    // step of the generator.\n",
              "    outputElement.lastPromiseValue = value;\n",
              "    return next.value.response;\n",
              "  });\n",
              "}\n",
              "\n",
              "/**\n",
              " * Generator function which is called between each async step of the upload\n",
              " * process.\n",
              " * @param {string} inputId Element ID of the input file picker element.\n",
              " * @param {string} outputId Element ID of the output display.\n",
              " * @return {!Iterable<!Object>} Iterable of next steps.\n",
              " */\n",
              "function* uploadFilesStep(inputId, outputId) {\n",
              "  const inputElement = document.getElementById(inputId);\n",
              "  inputElement.disabled = false;\n",
              "\n",
              "  const outputElement = document.getElementById(outputId);\n",
              "  outputElement.innerHTML = '';\n",
              "\n",
              "  const pickedPromise = new Promise((resolve) => {\n",
              "    inputElement.addEventListener('change', (e) => {\n",
              "      resolve(e.target.files);\n",
              "    });\n",
              "  });\n",
              "\n",
              "  const cancel = document.createElement('button');\n",
              "  inputElement.parentElement.appendChild(cancel);\n",
              "  cancel.textContent = 'Cancel upload';\n",
              "  const cancelPromise = new Promise((resolve) => {\n",
              "    cancel.onclick = () => {\n",
              "      resolve(null);\n",
              "    };\n",
              "  });\n",
              "\n",
              "  // Wait for the user to pick the files.\n",
              "  const files = yield {\n",
              "    promise: Promise.race([pickedPromise, cancelPromise]),\n",
              "    response: {\n",
              "      action: 'starting',\n",
              "    }\n",
              "  };\n",
              "\n",
              "  cancel.remove();\n",
              "\n",
              "  // Disable the input element since further picks are not allowed.\n",
              "  inputElement.disabled = true;\n",
              "\n",
              "  if (!files) {\n",
              "    return {\n",
              "      response: {\n",
              "        action: 'complete',\n",
              "      }\n",
              "    };\n",
              "  }\n",
              "\n",
              "  for (const file of files) {\n",
              "    const li = document.createElement('li');\n",
              "    li.append(span(file.name, {fontWeight: 'bold'}));\n",
              "    li.append(span(\n",
              "        `(${file.type || 'n/a'}) - ${file.size} bytes, ` +\n",
              "        `last modified: ${\n",
              "            file.lastModifiedDate ? file.lastModifiedDate.toLocaleDateString() :\n",
              "                                    'n/a'} - `));\n",
              "    const percent = span('0% done');\n",
              "    li.appendChild(percent);\n",
              "\n",
              "    outputElement.appendChild(li);\n",
              "\n",
              "    const fileDataPromise = new Promise((resolve) => {\n",
              "      const reader = new FileReader();\n",
              "      reader.onload = (e) => {\n",
              "        resolve(e.target.result);\n",
              "      };\n",
              "      reader.readAsArrayBuffer(file);\n",
              "    });\n",
              "    // Wait for the data to be ready.\n",
              "    let fileData = yield {\n",
              "      promise: fileDataPromise,\n",
              "      response: {\n",
              "        action: 'continue',\n",
              "      }\n",
              "    };\n",
              "\n",
              "    // Use a chunked sending to avoid message size limits. See b/62115660.\n",
              "    let position = 0;\n",
              "    do {\n",
              "      const length = Math.min(fileData.byteLength - position, MAX_PAYLOAD_SIZE);\n",
              "      const chunk = new Uint8Array(fileData, position, length);\n",
              "      position += length;\n",
              "\n",
              "      const base64 = btoa(String.fromCharCode.apply(null, chunk));\n",
              "      yield {\n",
              "        response: {\n",
              "          action: 'append',\n",
              "          file: file.name,\n",
              "          data: base64,\n",
              "        },\n",
              "      };\n",
              "\n",
              "      let percentDone = fileData.byteLength === 0 ?\n",
              "          100 :\n",
              "          Math.round((position / fileData.byteLength) * 100);\n",
              "      percent.textContent = `${percentDone}% done`;\n",
              "\n",
              "    } while (position < fileData.byteLength);\n",
              "  }\n",
              "\n",
              "  // All done.\n",
              "  yield {\n",
              "    response: {\n",
              "      action: 'complete',\n",
              "    }\n",
              "  };\n",
              "}\n",
              "\n",
              "scope.google = scope.google || {};\n",
              "scope.google.colab = scope.google.colab || {};\n",
              "scope.google.colab._files = {\n",
              "  _uploadFiles,\n",
              "  _uploadFilesContinue,\n",
              "};\n",
              "})(self);\n",
              "</script> "
            ]
          },
          "metadata": {}
        },
        {
          "output_type": "stream",
          "name": "stdout",
          "text": [
            "Saving kaggle.json to kaggle.json\n"
          ]
        },
        {
          "output_type": "execute_result",
          "data": {
            "text/plain": [
              "{'kaggle.json': b'{\"username\":\"amishadixit8899\",\"key\":\"c70fd74775c9d6dab0fd78ce4b748ae2\"}'}"
            ]
          },
          "metadata": {},
          "execution_count": 2
        }
      ]
    },
    {
      "cell_type": "code",
      "source": [
        "#create a kaggle folder\n",
        "! mkdir ~/.kaggle "
      ],
      "metadata": {
        "id": "H4Q_8beeZR-K"
      },
      "execution_count": 3,
      "outputs": []
    },
    {
      "cell_type": "code",
      "source": [
        "#copying the kaggle.json to folder created\n",
        "! cp kaggle.json ~/.kaggle/ "
      ],
      "metadata": {
        "id": "99cIXvYeZUP6"
      },
      "execution_count": 4,
      "outputs": []
    },
    {
      "cell_type": "code",
      "source": [
        "#permission for the json to act\n",
        "! chmod 600 ~/ .kaggle/kaggle.json"
      ],
      "metadata": {
        "colab": {
          "base_uri": "https://localhost:8080/"
        },
        "id": "t0bygQS6ZXCy",
        "outputId": "505dc5b4-de11-4413-dd2d-ef6297f1fac5"
      },
      "execution_count": 5,
      "outputs": [
        {
          "output_type": "stream",
          "name": "stdout",
          "text": [
            "chmod: cannot access '.kaggle/kaggle.json': No such file or directory\n"
          ]
        }
      ]
    },
    {
      "cell_type": "code",
      "source": [
        "#downloading our dataset\n",
        "! kaggle datasets download -d tmdb/tmdb-movie-metadata"
      ],
      "metadata": {
        "colab": {
          "base_uri": "https://localhost:8080/"
        },
        "id": "LXmNsDCrZbTy",
        "outputId": "4538358d-f400-447d-9397-51fda8e38767"
      },
      "execution_count": 6,
      "outputs": [
        {
          "output_type": "stream",
          "name": "stdout",
          "text": [
            "Warning: Your Kaggle API key is readable by other users on this system! To fix this, you can run 'chmod 600 /root/.kaggle/kaggle.json'\n",
            "Downloading tmdb-movie-metadata.zip to /content\n",
            "  0% 0.00/8.89M [00:00<?, ?B/s]\n",
            "100% 8.89M/8.89M [00:00<00:00, 94.5MB/s]\n"
          ]
        }
      ]
    },
    {
      "cell_type": "code",
      "source": [
        "#unzip the dataset to csv file\n",
        "! unzip tmdb-movie-metadata.zip"
      ],
      "metadata": {
        "colab": {
          "base_uri": "https://localhost:8080/"
        },
        "id": "y-SQpoStZdrL",
        "outputId": "895f69ba-99bb-42cb-9cd0-c5123907b71a"
      },
      "execution_count": 7,
      "outputs": [
        {
          "output_type": "stream",
          "name": "stdout",
          "text": [
            "Archive:  tmdb-movie-metadata.zip\n",
            "  inflating: tmdb_5000_credits.csv   \n",
            "  inflating: tmdb_5000_movies.csv    \n"
          ]
        }
      ]
    },
    {
      "cell_type": "code",
      "source": [
        "import pandas as pd\n",
        "import tensorflow as tf\n",
        "import numpy as np"
      ],
      "metadata": {
        "id": "XlRJ1F0dZk2O"
      },
      "execution_count": 8,
      "outputs": []
    },
    {
      "cell_type": "code",
      "source": [
        "#making pandas dataframe out of our csv file\n",
        "df = pd.read_csv('tmdb_5000_movies.csv')\n",
        "df.head(3)"
      ],
      "metadata": {
        "colab": {
          "base_uri": "https://localhost:8080/",
          "height": 502
        },
        "id": "YZ9AJBFBZnmd",
        "outputId": "996ee47d-4006-4da7-c55a-88679065accc"
      },
      "execution_count": 9,
      "outputs": [
        {
          "output_type": "execute_result",
          "data": {
            "text/plain": [
              "      budget                                             genres  \\\n",
              "0  237000000  [{\"id\": 28, \"name\": \"Action\"}, {\"id\": 12, \"nam...   \n",
              "1  300000000  [{\"id\": 12, \"name\": \"Adventure\"}, {\"id\": 14, \"...   \n",
              "2  245000000  [{\"id\": 28, \"name\": \"Action\"}, {\"id\": 12, \"nam...   \n",
              "\n",
              "                                       homepage      id  \\\n",
              "0                   http://www.avatarmovie.com/   19995   \n",
              "1  http://disney.go.com/disneypictures/pirates/     285   \n",
              "2   http://www.sonypictures.com/movies/spectre/  206647   \n",
              "\n",
              "                                            keywords original_language  \\\n",
              "0  [{\"id\": 1463, \"name\": \"culture clash\"}, {\"id\":...                en   \n",
              "1  [{\"id\": 270, \"name\": \"ocean\"}, {\"id\": 726, \"na...                en   \n",
              "2  [{\"id\": 470, \"name\": \"spy\"}, {\"id\": 818, \"name...                en   \n",
              "\n",
              "                             original_title  \\\n",
              "0                                    Avatar   \n",
              "1  Pirates of the Caribbean: At World's End   \n",
              "2                                   Spectre   \n",
              "\n",
              "                                            overview  popularity  \\\n",
              "0  In the 22nd century, a paraplegic Marine is di...  150.437577   \n",
              "1  Captain Barbossa, long believed to be dead, ha...  139.082615   \n",
              "2  A cryptic message from Bond’s past sends him o...  107.376788   \n",
              "\n",
              "                                production_companies  \\\n",
              "0  [{\"name\": \"Ingenious Film Partners\", \"id\": 289...   \n",
              "1  [{\"name\": \"Walt Disney Pictures\", \"id\": 2}, {\"...   \n",
              "2  [{\"name\": \"Columbia Pictures\", \"id\": 5}, {\"nam...   \n",
              "\n",
              "                                production_countries release_date     revenue  \\\n",
              "0  [{\"iso_3166_1\": \"US\", \"name\": \"United States o...   2009-12-10  2787965087   \n",
              "1  [{\"iso_3166_1\": \"US\", \"name\": \"United States o...   2007-05-19   961000000   \n",
              "2  [{\"iso_3166_1\": \"GB\", \"name\": \"United Kingdom\"...   2015-10-26   880674609   \n",
              "\n",
              "   runtime                                   spoken_languages    status  \\\n",
              "0    162.0  [{\"iso_639_1\": \"en\", \"name\": \"English\"}, {\"iso...  Released   \n",
              "1    169.0           [{\"iso_639_1\": \"en\", \"name\": \"English\"}]  Released   \n",
              "2    148.0  [{\"iso_639_1\": \"fr\", \"name\": \"Fran\\u00e7ais\"},...  Released   \n",
              "\n",
              "                                          tagline  \\\n",
              "0                     Enter the World of Pandora.   \n",
              "1  At the end of the world, the adventure begins.   \n",
              "2                           A Plan No One Escapes   \n",
              "\n",
              "                                      title  vote_average  vote_count  \n",
              "0                                    Avatar           7.2       11800  \n",
              "1  Pirates of the Caribbean: At World's End           6.9        4500  \n",
              "2                                   Spectre           6.3        4466  "
            ],
            "text/html": [
              "\n",
              "  <div id=\"df-9c918299-7af7-4c98-aecc-f35eacb9c905\">\n",
              "    <div class=\"colab-df-container\">\n",
              "      <div>\n",
              "<style scoped>\n",
              "    .dataframe tbody tr th:only-of-type {\n",
              "        vertical-align: middle;\n",
              "    }\n",
              "\n",
              "    .dataframe tbody tr th {\n",
              "        vertical-align: top;\n",
              "    }\n",
              "\n",
              "    .dataframe thead th {\n",
              "        text-align: right;\n",
              "    }\n",
              "</style>\n",
              "<table border=\"1\" class=\"dataframe\">\n",
              "  <thead>\n",
              "    <tr style=\"text-align: right;\">\n",
              "      <th></th>\n",
              "      <th>budget</th>\n",
              "      <th>genres</th>\n",
              "      <th>homepage</th>\n",
              "      <th>id</th>\n",
              "      <th>keywords</th>\n",
              "      <th>original_language</th>\n",
              "      <th>original_title</th>\n",
              "      <th>overview</th>\n",
              "      <th>popularity</th>\n",
              "      <th>production_companies</th>\n",
              "      <th>production_countries</th>\n",
              "      <th>release_date</th>\n",
              "      <th>revenue</th>\n",
              "      <th>runtime</th>\n",
              "      <th>spoken_languages</th>\n",
              "      <th>status</th>\n",
              "      <th>tagline</th>\n",
              "      <th>title</th>\n",
              "      <th>vote_average</th>\n",
              "      <th>vote_count</th>\n",
              "    </tr>\n",
              "  </thead>\n",
              "  <tbody>\n",
              "    <tr>\n",
              "      <th>0</th>\n",
              "      <td>237000000</td>\n",
              "      <td>[{\"id\": 28, \"name\": \"Action\"}, {\"id\": 12, \"nam...</td>\n",
              "      <td>http://www.avatarmovie.com/</td>\n",
              "      <td>19995</td>\n",
              "      <td>[{\"id\": 1463, \"name\": \"culture clash\"}, {\"id\":...</td>\n",
              "      <td>en</td>\n",
              "      <td>Avatar</td>\n",
              "      <td>In the 22nd century, a paraplegic Marine is di...</td>\n",
              "      <td>150.437577</td>\n",
              "      <td>[{\"name\": \"Ingenious Film Partners\", \"id\": 289...</td>\n",
              "      <td>[{\"iso_3166_1\": \"US\", \"name\": \"United States o...</td>\n",
              "      <td>2009-12-10</td>\n",
              "      <td>2787965087</td>\n",
              "      <td>162.0</td>\n",
              "      <td>[{\"iso_639_1\": \"en\", \"name\": \"English\"}, {\"iso...</td>\n",
              "      <td>Released</td>\n",
              "      <td>Enter the World of Pandora.</td>\n",
              "      <td>Avatar</td>\n",
              "      <td>7.2</td>\n",
              "      <td>11800</td>\n",
              "    </tr>\n",
              "    <tr>\n",
              "      <th>1</th>\n",
              "      <td>300000000</td>\n",
              "      <td>[{\"id\": 12, \"name\": \"Adventure\"}, {\"id\": 14, \"...</td>\n",
              "      <td>http://disney.go.com/disneypictures/pirates/</td>\n",
              "      <td>285</td>\n",
              "      <td>[{\"id\": 270, \"name\": \"ocean\"}, {\"id\": 726, \"na...</td>\n",
              "      <td>en</td>\n",
              "      <td>Pirates of the Caribbean: At World's End</td>\n",
              "      <td>Captain Barbossa, long believed to be dead, ha...</td>\n",
              "      <td>139.082615</td>\n",
              "      <td>[{\"name\": \"Walt Disney Pictures\", \"id\": 2}, {\"...</td>\n",
              "      <td>[{\"iso_3166_1\": \"US\", \"name\": \"United States o...</td>\n",
              "      <td>2007-05-19</td>\n",
              "      <td>961000000</td>\n",
              "      <td>169.0</td>\n",
              "      <td>[{\"iso_639_1\": \"en\", \"name\": \"English\"}]</td>\n",
              "      <td>Released</td>\n",
              "      <td>At the end of the world, the adventure begins.</td>\n",
              "      <td>Pirates of the Caribbean: At World's End</td>\n",
              "      <td>6.9</td>\n",
              "      <td>4500</td>\n",
              "    </tr>\n",
              "    <tr>\n",
              "      <th>2</th>\n",
              "      <td>245000000</td>\n",
              "      <td>[{\"id\": 28, \"name\": \"Action\"}, {\"id\": 12, \"nam...</td>\n",
              "      <td>http://www.sonypictures.com/movies/spectre/</td>\n",
              "      <td>206647</td>\n",
              "      <td>[{\"id\": 470, \"name\": \"spy\"}, {\"id\": 818, \"name...</td>\n",
              "      <td>en</td>\n",
              "      <td>Spectre</td>\n",
              "      <td>A cryptic message from Bond’s past sends him o...</td>\n",
              "      <td>107.376788</td>\n",
              "      <td>[{\"name\": \"Columbia Pictures\", \"id\": 5}, {\"nam...</td>\n",
              "      <td>[{\"iso_3166_1\": \"GB\", \"name\": \"United Kingdom\"...</td>\n",
              "      <td>2015-10-26</td>\n",
              "      <td>880674609</td>\n",
              "      <td>148.0</td>\n",
              "      <td>[{\"iso_639_1\": \"fr\", \"name\": \"Fran\\u00e7ais\"},...</td>\n",
              "      <td>Released</td>\n",
              "      <td>A Plan No One Escapes</td>\n",
              "      <td>Spectre</td>\n",
              "      <td>6.3</td>\n",
              "      <td>4466</td>\n",
              "    </tr>\n",
              "  </tbody>\n",
              "</table>\n",
              "</div>\n",
              "      <button class=\"colab-df-convert\" onclick=\"convertToInteractive('df-9c918299-7af7-4c98-aecc-f35eacb9c905')\"\n",
              "              title=\"Convert this dataframe to an interactive table.\"\n",
              "              style=\"display:none;\">\n",
              "        \n",
              "  <svg xmlns=\"http://www.w3.org/2000/svg\" height=\"24px\"viewBox=\"0 0 24 24\"\n",
              "       width=\"24px\">\n",
              "    <path d=\"M0 0h24v24H0V0z\" fill=\"none\"/>\n",
              "    <path d=\"M18.56 5.44l.94 2.06.94-2.06 2.06-.94-2.06-.94-.94-2.06-.94 2.06-2.06.94zm-11 1L8.5 8.5l.94-2.06 2.06-.94-2.06-.94L8.5 2.5l-.94 2.06-2.06.94zm10 10l.94 2.06.94-2.06 2.06-.94-2.06-.94-.94-2.06-.94 2.06-2.06.94z\"/><path d=\"M17.41 7.96l-1.37-1.37c-.4-.4-.92-.59-1.43-.59-.52 0-1.04.2-1.43.59L10.3 9.45l-7.72 7.72c-.78.78-.78 2.05 0 2.83L4 21.41c.39.39.9.59 1.41.59.51 0 1.02-.2 1.41-.59l7.78-7.78 2.81-2.81c.8-.78.8-2.07 0-2.86zM5.41 20L4 18.59l7.72-7.72 1.47 1.35L5.41 20z\"/>\n",
              "  </svg>\n",
              "      </button>\n",
              "      \n",
              "  <style>\n",
              "    .colab-df-container {\n",
              "      display:flex;\n",
              "      flex-wrap:wrap;\n",
              "      gap: 12px;\n",
              "    }\n",
              "\n",
              "    .colab-df-convert {\n",
              "      background-color: #E8F0FE;\n",
              "      border: none;\n",
              "      border-radius: 50%;\n",
              "      cursor: pointer;\n",
              "      display: none;\n",
              "      fill: #1967D2;\n",
              "      height: 32px;\n",
              "      padding: 0 0 0 0;\n",
              "      width: 32px;\n",
              "    }\n",
              "\n",
              "    .colab-df-convert:hover {\n",
              "      background-color: #E2EBFA;\n",
              "      box-shadow: 0px 1px 2px rgba(60, 64, 67, 0.3), 0px 1px 3px 1px rgba(60, 64, 67, 0.15);\n",
              "      fill: #174EA6;\n",
              "    }\n",
              "\n",
              "    [theme=dark] .colab-df-convert {\n",
              "      background-color: #3B4455;\n",
              "      fill: #D2E3FC;\n",
              "    }\n",
              "\n",
              "    [theme=dark] .colab-df-convert:hover {\n",
              "      background-color: #434B5C;\n",
              "      box-shadow: 0px 1px 3px 1px rgba(0, 0, 0, 0.15);\n",
              "      filter: drop-shadow(0px 1px 2px rgba(0, 0, 0, 0.3));\n",
              "      fill: #FFFFFF;\n",
              "    }\n",
              "  </style>\n",
              "\n",
              "      <script>\n",
              "        const buttonEl =\n",
              "          document.querySelector('#df-9c918299-7af7-4c98-aecc-f35eacb9c905 button.colab-df-convert');\n",
              "        buttonEl.style.display =\n",
              "          google.colab.kernel.accessAllowed ? 'block' : 'none';\n",
              "\n",
              "        async function convertToInteractive(key) {\n",
              "          const element = document.querySelector('#df-9c918299-7af7-4c98-aecc-f35eacb9c905');\n",
              "          const dataTable =\n",
              "            await google.colab.kernel.invokeFunction('convertToInteractive',\n",
              "                                                     [key], {});\n",
              "          if (!dataTable) return;\n",
              "\n",
              "          const docLinkHtml = 'Like what you see? Visit the ' +\n",
              "            '<a target=\"_blank\" href=https://colab.research.google.com/notebooks/data_table.ipynb>data table notebook</a>'\n",
              "            + ' to learn more about interactive tables.';\n",
              "          element.innerHTML = '';\n",
              "          dataTable['output_type'] = 'display_data';\n",
              "          await google.colab.output.renderOutput(dataTable, element);\n",
              "          const docLink = document.createElement('div');\n",
              "          docLink.innerHTML = docLinkHtml;\n",
              "          element.appendChild(docLink);\n",
              "        }\n",
              "      </script>\n",
              "    </div>\n",
              "  </div>\n",
              "  "
            ]
          },
          "metadata": {},
          "execution_count": 9
        }
      ]
    },
    {
      "cell_type": "code",
      "source": [
        "df.head(10)"
      ],
      "metadata": {
        "colab": {
          "base_uri": "https://localhost:8080/"
        },
        "id": "e86io621ibUT",
        "outputId": "a9fbc219-ee17-4f61-c4b7-cb17ec3e59de"
      },
      "execution_count": 45,
      "outputs": [
        {
          "output_type": "execute_result",
          "data": {
            "text/plain": [
              "0                                      Avatar\n",
              "1    Pirates of the Caribbean: At World's End\n",
              "2                                     Spectre\n",
              "3                       The Dark Knight Rises\n",
              "4                                 John Carter\n",
              "5                                Spider-Man 3\n",
              "6                                     Tangled\n",
              "7                     Avengers: Age of Ultron\n",
              "8      Harry Potter and the Half-Blood Prince\n",
              "9          Batman v Superman: Dawn of Justice\n",
              "Name: original_title, dtype: object"
            ]
          },
          "metadata": {},
          "execution_count": 45
        }
      ]
    },
    {
      "cell_type": "code",
      "source": [
        "#we'll keep our original title column \n",
        "df = df['original_title']"
      ],
      "metadata": {
        "id": "xg1KhNJtZrOa"
      },
      "execution_count": 10,
      "outputs": []
    },
    {
      "cell_type": "code",
      "source": [
        "df[:3]"
      ],
      "metadata": {
        "colab": {
          "base_uri": "https://localhost:8080/"
        },
        "id": "ULqZoec6Zv-j",
        "outputId": "e55cf31f-9ca3-4921-b061-7569f68a9235"
      },
      "execution_count": 11,
      "outputs": [
        {
          "output_type": "execute_result",
          "data": {
            "text/plain": [
              "0                                      Avatar\n",
              "1    Pirates of the Caribbean: At World's End\n",
              "2                                     Spectre\n",
              "Name: original_title, dtype: object"
            ]
          },
          "metadata": {},
          "execution_count": 11
        }
      ]
    },
    {
      "cell_type": "code",
      "source": [
        "#converting pandas object to list type\n",
        "movie_name = df.values.tolist()"
      ],
      "metadata": {
        "id": "fJGxTpYrZ0zo"
      },
      "execution_count": 12,
      "outputs": []
    },
    {
      "cell_type": "code",
      "source": [
        "movie_name[:3]"
      ],
      "metadata": {
        "colab": {
          "base_uri": "https://localhost:8080/"
        },
        "id": "kX36h0ieZ3ni",
        "outputId": "925760bc-a7f6-46ce-9ea6-713e7794cf24"
      },
      "execution_count": 13,
      "outputs": [
        {
          "output_type": "execute_result",
          "data": {
            "text/plain": [
              "['Avatar', \"Pirates of the Caribbean: At World's End\", 'Spectre']"
            ]
          },
          "metadata": {},
          "execution_count": 13
        }
      ]
    },
    {
      "cell_type": "code",
      "source": [
        "#mapping each word with a unique number using tensorflows tokenizer\n",
        "tokenizer = tf.keras.preprocessing.text.Tokenizer()\n",
        "tokenizer.fit_on_texts(movie_name)\n",
        "seq = tokenizer.texts_to_sequences(movie_name)"
      ],
      "metadata": {
        "id": "E_ifNA6NaghL"
      },
      "execution_count": 14,
      "outputs": []
    },
    {
      "cell_type": "code",
      "source": [
        "seq[:3]"
      ],
      "metadata": {
        "colab": {
          "base_uri": "https://localhost:8080/"
        },
        "id": "2G9U_bgpajRA",
        "outputId": "814765aa-7ebc-4734-fc67-be11c48e747a"
      },
      "execution_count": 15,
      "outputs": [
        {
          "output_type": "execute_result",
          "data": {
            "text/plain": [
              "[[1564], [210, 2, 1, 431, 47, 432, 72], [1565]]"
            ]
          },
          "metadata": {},
          "execution_count": 15
        }
      ]
    },
    {
      "cell_type": "code",
      "source": [
        "tokenizer.word_index"
      ],
      "metadata": {
        "colab": {
          "base_uri": "https://localhost:8080/"
        },
        "id": "SHhwqgtgao1I",
        "outputId": "2043df09-89ea-4172-be29-4a55aeef1432"
      },
      "execution_count": 16,
      "outputs": [
        {
          "output_type": "execute_result",
          "data": {
            "text/plain": [
              "{'the': 1,\n",
              " 'of': 2,\n",
              " 'a': 3,\n",
              " 'and': 4,\n",
              " 'in': 5,\n",
              " '2': 6,\n",
              " 'to': 7,\n",
              " 'man': 8,\n",
              " 'i': 9,\n",
              " 'love': 10,\n",
              " 'with': 11,\n",
              " 'on': 12,\n",
              " 'me': 13,\n",
              " 'my': 14,\n",
              " 'movie': 15,\n",
              " 'you': 16,\n",
              " 'dead': 17,\n",
              " 'last': 18,\n",
              " 'for': 19,\n",
              " 'from': 20,\n",
              " '3': 21,\n",
              " 'good': 22,\n",
              " 'big': 23,\n",
              " 'day': 24,\n",
              " 'house': 25,\n",
              " 'ii': 26,\n",
              " 'american': 27,\n",
              " 'men': 28,\n",
              " 'it': 29,\n",
              " 'story': 30,\n",
              " 'life': 31,\n",
              " 'black': 32,\n",
              " 'girl': 33,\n",
              " 'all': 34,\n",
              " 'out': 35,\n",
              " 'time': 36,\n",
              " 'night': 37,\n",
              " 'is': 38,\n",
              " 'world': 39,\n",
              " 'days': 40,\n",
              " 'star': 41,\n",
              " 'part': 42,\n",
              " 'new': 43,\n",
              " 'de': 44,\n",
              " 'little': 45,\n",
              " 'la': 46,\n",
              " 'at': 47,\n",
              " 'up': 48,\n",
              " 'an': 49,\n",
              " 'die': 50,\n",
              " 'city': 51,\n",
              " 'dark': 52,\n",
              " 'blood': 53,\n",
              " 'game': 54,\n",
              " 'one': 55,\n",
              " 'red': 56,\n",
              " 'blue': 57,\n",
              " 'your': 58,\n",
              " 'iii': 59,\n",
              " 'kill': 60,\n",
              " 'war': 61,\n",
              " 'white': 62,\n",
              " 'street': 63,\n",
              " 'lost': 64,\n",
              " 'christmas': 65,\n",
              " 'legend': 66,\n",
              " 'wild': 67,\n",
              " 'how': 68,\n",
              " 'road': 69,\n",
              " 'boys': 70,\n",
              " 'high': 71,\n",
              " 'end': 72,\n",
              " 'down': 73,\n",
              " 'home': 74,\n",
              " 'hard': 75,\n",
              " 'boy': 76,\n",
              " 'year': 77,\n",
              " 'like': 78,\n",
              " 'x': 79,\n",
              " 'bad': 80,\n",
              " 'do': 81,\n",
              " 'get': 82,\n",
              " 'back': 83,\n",
              " 'about': 84,\n",
              " 'dawn': 85,\n",
              " 'trek': 86,\n",
              " 'first': 87,\n",
              " 'mr': 88,\n",
              " 'final': 89,\n",
              " 'two': 90,\n",
              " 'secret': 91,\n",
              " 'that': 92,\n",
              " 'we': 93,\n",
              " 'no': 94,\n",
              " 'dragon': 95,\n",
              " 'planet': 96,\n",
              " 'mad': 97,\n",
              " 'earth': 98,\n",
              " 'never': 99,\n",
              " 'land': 100,\n",
              " 'return': 101,\n",
              " 'spy': 102,\n",
              " 'les': 103,\n",
              " 'evil': 104,\n",
              " 'death': 105,\n",
              " 'by': 106,\n",
              " 'le': 107,\n",
              " 'who': 108,\n",
              " 'friday': 109,\n",
              " 'harry': 110,\n",
              " 'fire': 111,\n",
              " 'escape': 112,\n",
              " '4': 113,\n",
              " 'four': 114,\n",
              " 'what': 115,\n",
              " 'this': 116,\n",
              " 'dog': 117,\n",
              " 'run': 118,\n",
              " 'best': 119,\n",
              " 'thing': 120,\n",
              " 'king': 121,\n",
              " 'america': 122,\n",
              " 'green': 123,\n",
              " 'vs': 124,\n",
              " 'rise': 125,\n",
              " 'snow': 126,\n",
              " 'after': 127,\n",
              " 'ghost': 128,\n",
              " 'perfect': 129,\n",
              " 'or': 130,\n",
              " 'island': 131,\n",
              " 'sea': 132,\n",
              " 'york': 133,\n",
              " 'state': 134,\n",
              " 'over': 135,\n",
              " 'go': 136,\n",
              " 'young': 137,\n",
              " 'tale': 138,\n",
              " 'be': 139,\n",
              " 'eyes': 140,\n",
              " 'water': 141,\n",
              " 'her': 142,\n",
              " 'cop': 143,\n",
              " 'baby': 144,\n",
              " 'gun': 145,\n",
              " 'age': 146,\n",
              " 'prince': 147,\n",
              " 'jones': 148,\n",
              " 'beyond': 149,\n",
              " 'joe': 150,\n",
              " 'inside': 151,\n",
              " 'not': 152,\n",
              " 'adventures': 153,\n",
              " 'd': 154,\n",
              " 'true': 155,\n",
              " 'just': 156,\n",
              " 'space': 157,\n",
              " 'brothers': 158,\n",
              " 'rock': 159,\n",
              " 'money': 160,\n",
              " 'got': 161,\n",
              " 'club': 162,\n",
              " 'family': 163,\n",
              " 'wedding': 164,\n",
              " 'our': 165,\n",
              " 'guy': 166,\n",
              " 'woman': 167,\n",
              " 'du': 168,\n",
              " 'when': 169,\n",
              " 'next': 170,\n",
              " 'girls': 171,\n",
              " 'saw': 172,\n",
              " 'batman': 173,\n",
              " 'monsters': 174,\n",
              " 'great': 175,\n",
              " 'jack': 176,\n",
              " 'moon': 177,\n",
              " 'witch': 178,\n",
              " 'book': 179,\n",
              " 'journey': 180,\n",
              " 'max': 181,\n",
              " '1': 182,\n",
              " '13th': 183,\n",
              " 'heaven': 184,\n",
              " 'other': 185,\n",
              " 'things': 186,\n",
              " 'el': 187,\n",
              " 'ice': 188,\n",
              " \"don't\": 189,\n",
              " \"devil's\": 190,\n",
              " 'hotel': 191,\n",
              " 'dogs': 192,\n",
              " 'e': 193,\n",
              " 'kid': 194,\n",
              " 'glory': 195,\n",
              " 'way': 196,\n",
              " 'hills': 197,\n",
              " 'dream': 198,\n",
              " 'drive': 199,\n",
              " 'room': 200,\n",
              " 'child': 201,\n",
              " 'texas': 202,\n",
              " 'hot': 203,\n",
              " 'midnight': 204,\n",
              " '3d': 205,\n",
              " 'diary': 206,\n",
              " 'school': 207,\n",
              " 'summer': 208,\n",
              " 'light': 209,\n",
              " 'pirates': 210,\n",
              " 'knight': 211,\n",
              " 'john': 212,\n",
              " 'spider': 213,\n",
              " 'potter': 214,\n",
              " 'iron': 215,\n",
              " 'revenge': 216,\n",
              " 'into': 217,\n",
              " 'darkness': 218,\n",
              " 'apes': 219,\n",
              " 'train': 220,\n",
              " 'games': 221,\n",
              " 'angels': 222,\n",
              " 'mission': 223,\n",
              " 'code': 224,\n",
              " 'know': 225,\n",
              " 'wars': 226,\n",
              " 'town': 227,\n",
              " 'are': 228,\n",
              " 'son': 229,\n",
              " 'heart': 230,\n",
              " 'sex': 231,\n",
              " 'park': 232,\n",
              " 'three': 233,\n",
              " 'meet': 234,\n",
              " 'deep': 235,\n",
              " 'eye': 236,\n",
              " 'seven': 237,\n",
              " 'bride': 238,\n",
              " 's': 239,\n",
              " '13': 240,\n",
              " 'kiss': 241,\n",
              " 'show': 242,\n",
              " 'michael': 243,\n",
              " 'under': 244,\n",
              " 'miss': 245,\n",
              " 'did': 246,\n",
              " 'super': 247,\n",
              " 'silent': 248,\n",
              " 'destination': 249,\n",
              " 'soul': 250,\n",
              " 'party': 251,\n",
              " 'nightmare': 252,\n",
              " 'walk': 253,\n",
              " 'too': 254,\n",
              " 'romeo': 255,\n",
              " 'call': 256,\n",
              " 'valley': 257,\n",
              " 'before': 258,\n",
              " 'married': 259,\n",
              " 'halloween': 260,\n",
              " 'superman': 261,\n",
              " 'battle': 262,\n",
              " 'five': 263,\n",
              " 'hood': 264,\n",
              " 'captain': 265,\n",
              " 'kingdom': 266,\n",
              " 'rush': 267,\n",
              " 'edge': 268,\n",
              " 'tomorrow': 269,\n",
              " 'mars': 270,\n",
              " 'wanted': 271,\n",
              " 'side': 272,\n",
              " 'happy': 273,\n",
              " 'stone': 274,\n",
              " 'curse': 275,\n",
              " 'jason': 276,\n",
              " 'teenage': 277,\n",
              " 'ninja': 278,\n",
              " 'real': 279,\n",
              " 'live': 280,\n",
              " 'princess': 281,\n",
              " 'country': 282,\n",
              " 'lies': 283,\n",
              " 'wolf': 284,\n",
              " 'now': 285,\n",
              " \"it's\": 286,\n",
              " 'open': 287,\n",
              " 'nights': 288,\n",
              " 'mighty': 289,\n",
              " 'walking': 290,\n",
              " 'hunter': 291,\n",
              " 'u': 292,\n",
              " 'l': 293,\n",
              " 'monster': 294,\n",
              " 'people': 295,\n",
              " 'lady': 296,\n",
              " 'vampire': 297,\n",
              " 'women': 298,\n",
              " 'step': 299,\n",
              " 'date': 300,\n",
              " 'broken': 301,\n",
              " 'long': 302,\n",
              " 'adventure': 303,\n",
              " 'lucky': 304,\n",
              " 'runner': 305,\n",
              " 'shadow': 306,\n",
              " 'london': 307,\n",
              " 'magic': 308,\n",
              " 'name': 309,\n",
              " 'vegas': 310,\n",
              " 'line': 311,\n",
              " 'paris': 312,\n",
              " '8': 313,\n",
              " '10': 314,\n",
              " 'crazy': 315,\n",
              " 'hill': 316,\n",
              " 'beverly': 317,\n",
              " 'work': 318,\n",
              " 'fat': 319,\n",
              " 'river': 320,\n",
              " 'dangerous': 321,\n",
              " 'kids': 322,\n",
              " 'again': 323,\n",
              " 'living': 324,\n",
              " 'lake': 325,\n",
              " 'sweet': 326,\n",
              " 'devil': 327,\n",
              " 'friends': 328,\n",
              " 'bang': 329,\n",
              " 'take': 330,\n",
              " 'greatest': 331,\n",
              " 'lives': 332,\n",
              " 'goes': 333,\n",
              " 'have': 334,\n",
              " 'top': 335,\n",
              " 'il': 336,\n",
              " 'brown': 337,\n",
              " 'paranormal': 338,\n",
              " 'activity': 339,\n",
              " 'v': 340,\n",
              " 'lone': 341,\n",
              " 'chronicles': 342,\n",
              " 'golden': 343,\n",
              " 'terminator': 344,\n",
              " 'hour': 345,\n",
              " 'west': 346,\n",
              " 'tomb': 347,\n",
              " 'forever': 348,\n",
              " 'fast': 349,\n",
              " 'hunger': 350,\n",
              " 'charlie': 351,\n",
              " 'force': 352,\n",
              " 'impossible': 353,\n",
              " 'away': 354,\n",
              " 'most': 355,\n",
              " 'another': 356,\n",
              " 'dick': 357,\n",
              " 'twilight': 358,\n",
              " 'bourne': 359,\n",
              " 'mutant': 360,\n",
              " 'lord': 361,\n",
              " 'gone': 362,\n",
              " 'where': 363,\n",
              " 'point': 364,\n",
              " 'zone': 365,\n",
              " 'thief': 366,\n",
              " 'saint': 367,\n",
              " 'air': 368,\n",
              " 'holiday': 369,\n",
              " 'cold': 370,\n",
              " 'pink': 371,\n",
              " 'still': 372,\n",
              " 'machine': 373,\n",
              " 'et': 374,\n",
              " 'don': 375,\n",
              " 'league': 376,\n",
              " 'hollywood': 377,\n",
              " 'funny': 378,\n",
              " 'dr': 379,\n",
              " 'alien': 380,\n",
              " 'soldiers': 381,\n",
              " 'los': 382,\n",
              " 'rain': 383,\n",
              " 'plan': 384,\n",
              " 'hours': 385,\n",
              " 'blade': 386,\n",
              " 'resident': 387,\n",
              " 'race': 388,\n",
              " 'play': 389,\n",
              " 'rising': 390,\n",
              " 'shanghai': 391,\n",
              " 'catch': 392,\n",
              " 'can': 393,\n",
              " 'stop': 394,\n",
              " 'number': 395,\n",
              " 'list': 396,\n",
              " 'along': 397,\n",
              " 'here': 398,\n",
              " 'double': 399,\n",
              " 'scream': 400,\n",
              " 'ride': 401,\n",
              " 'bridge': 402,\n",
              " '5': 403,\n",
              " 'art': 404,\n",
              " 'sunshine': 405,\n",
              " 'truth': 406,\n",
              " 'burn': 407,\n",
              " 'ghosts': 408,\n",
              " 'she': 409,\n",
              " 'there': 410,\n",
              " 'elm': 411,\n",
              " '40': 412,\n",
              " 'old': 413,\n",
              " 'queen': 414,\n",
              " 'will': 415,\n",
              " '9': 416,\n",
              " 'without': 417,\n",
              " '30': 418,\n",
              " 'running': 419,\n",
              " 'der': 420,\n",
              " 'cry': 421,\n",
              " 'welcome': 422,\n",
              " 'brother': 423,\n",
              " 'nothing': 424,\n",
              " \"she's\": 425,\n",
              " 'lights': 426,\n",
              " 'kind': 427,\n",
              " 'butterfly': 428,\n",
              " 'being': 429,\n",
              " 'they': 430,\n",
              " 'caribbean': 431,\n",
              " \"world's\": 432,\n",
              " 'half': 433,\n",
              " 'returns': 434,\n",
              " \"man's\": 435,\n",
              " 'steel': 436,\n",
              " 'stranger': 437,\n",
              " 'robin': 438,\n",
              " 'jurassic': 439,\n",
              " 'transformers': 440,\n",
              " 'oz': 441,\n",
              " 'furious': 442,\n",
              " 'z': 443,\n",
              " 'future': 444,\n",
              " 'past': 445,\n",
              " 'lion': 446,\n",
              " 'aliens': 447,\n",
              " 'g': 448,\n",
              " 'jungle': 449,\n",
              " 'soldier': 450,\n",
              " 'shrek': 451,\n",
              " 'hero': 452,\n",
              " 'glass': 453,\n",
              " 'am': 454,\n",
              " 'chocolate': 455,\n",
              " 'madagascar': 456,\n",
              " 'frozen': 457,\n",
              " 'wrath': 458,\n",
              " 'shadows': 459,\n",
              " 'kung': 460,\n",
              " 'jane': 461,\n",
              " 'gods': 462,\n",
              " 'kings': 463,\n",
              " 'master': 464,\n",
              " 'rider': 465,\n",
              " 'speed': 466,\n",
              " 'inc': 467,\n",
              " 'turtles': 468,\n",
              " 'mrs': 469,\n",
              " 'empire': 470,\n",
              " 'free': 471,\n",
              " 'rings': 472,\n",
              " 'groove': 473,\n",
              " 'national': 474,\n",
              " 'mask': 475,\n",
              " 'lovely': 476,\n",
              " 'vengeance': 477,\n",
              " 'alvin': 478,\n",
              " 'chipmunks': 479,\n",
              " 'haunted': 480,\n",
              " 'see': 481,\n",
              " 'own': 482,\n",
              " 'safe': 483,\n",
              " 'thirteen': 484,\n",
              " 'action': 485,\n",
              " 'stories': 486,\n",
              " 'haunting': 487,\n",
              " 'dreams': 488,\n",
              " 'nine': 489,\n",
              " 'sound': 490,\n",
              " 'beautiful': 491,\n",
              " 'mind': 492,\n",
              " 'beginning': 493,\n",
              " 'angry': 494,\n",
              " 'ballad': 495,\n",
              " 'bobby': 496,\n",
              " 't': 497,\n",
              " 'sky': 498,\n",
              " 'predator': 499,\n",
              " 'fish': 500,\n",
              " 'horse': 501,\n",
              " 'dracula': 502,\n",
              " 'years': 503,\n",
              " 'company': 504,\n",
              " 'underworld': 505,\n",
              " 'hall': 506,\n",
              " 'body': 507,\n",
              " 'saving': 508,\n",
              " 'want': 509,\n",
              " 'santa': 510,\n",
              " 'trade': 511,\n",
              " 'sin': 512,\n",
              " 'hearts': 513,\n",
              " 'chicken': 514,\n",
              " 'daddy': 515,\n",
              " 'job': 516,\n",
              " 'close': 517,\n",
              " 'joy': 518,\n",
              " 'trouble': 519,\n",
              " 'george': 520,\n",
              " 'bill': 521,\n",
              " 'chain': 522,\n",
              " 'un': 523,\n",
              " 'head': 524,\n",
              " 'godfather': 525,\n",
              " 'zero': 526,\n",
              " 'as': 527,\n",
              " 'say': 528,\n",
              " 'us': 529,\n",
              " 'fair': 530,\n",
              " 'sight': 531,\n",
              " 'riding': 532,\n",
              " 'liar': 533,\n",
              " 'scary': 534,\n",
              " 'hell': 535,\n",
              " 'tin': 536,\n",
              " 'johnny': 537,\n",
              " 'st': 538,\n",
              " '21': 539,\n",
              " 'came': 540,\n",
              " 'minutes': 541,\n",
              " 'dance': 542,\n",
              " 'honor': 543,\n",
              " 'pitch': 544,\n",
              " 'november': 545,\n",
              " 'mean': 546,\n",
              " 'streets': 547,\n",
              " 'something': 548,\n",
              " 'wife': 549,\n",
              " 'so': 550,\n",
              " 'virgin': 551,\n",
              " 'fear': 552,\n",
              " 'radio': 553,\n",
              " 'must': 554,\n",
              " 'business': 555,\n",
              " 'freedom': 556,\n",
              " 'history': 557,\n",
              " 'letters': 558,\n",
              " \"what's\": 559,\n",
              " 'chasing': 560,\n",
              " 'once': 561,\n",
              " 'grace': 562,\n",
              " 'straight': 563,\n",
              " 'only': 564,\n",
              " 'luck': 565,\n",
              " 'sisterhood': 566,\n",
              " 'right': 567,\n",
              " 'blonde': 568,\n",
              " 'crocodile': 569,\n",
              " 'dundee': 570,\n",
              " 'ever': 571,\n",
              " 'but': 572,\n",
              " 'god': 573,\n",
              " 'omega': 574,\n",
              " 'hit': 575,\n",
              " 'alone': 576,\n",
              " 'jackass': 577,\n",
              " 'let': 578,\n",
              " 'rules': 579,\n",
              " 'dancer': 580,\n",
              " 'das': 581,\n",
              " 'enter': 582,\n",
              " 'everything': 583,\n",
              " 'nowhere': 584,\n",
              " 'born': 585,\n",
              " 'valentine': 586,\n",
              " 'brooklyn': 587,\n",
              " 'dirty': 588,\n",
              " 'pet': 589,\n",
              " 'b': 590,\n",
              " 'musical': 591,\n",
              " 'chapter': 592,\n",
              " 'low': 593,\n",
              " 'better': 594,\n",
              " 'wind': 595,\n",
              " 'saints': 596,\n",
              " 'wicked': 597,\n",
              " 'des': 598,\n",
              " '20': 599,\n",
              " 'ha': 600,\n",
              " 'carter': 601,\n",
              " 'narnia': 602,\n",
              " 'hobbit': 603,\n",
              " 'amazing': 604,\n",
              " 'titanic': 605,\n",
              " 'civil': 606,\n",
              " 'alice': 607,\n",
              " 'wonderland': 608,\n",
              " 'stand': 609,\n",
              " 'fallen': 610,\n",
              " 'cars': 611,\n",
              " 'toy': 612,\n",
              " 'indiana': 613,\n",
              " 'brave': 614,\n",
              " 'carol': 615,\n",
              " 'apocalypse': 616,\n",
              " 'lovers': 617,\n",
              " '6': 618,\n",
              " 'express': 619,\n",
              " 'independence': 620,\n",
              " 'guardians': 621,\n",
              " 'galaxy': 622,\n",
              " 'through': 623,\n",
              " 'looking': 624,\n",
              " 'voyage': 625,\n",
              " 'pearl': 626,\n",
              " 'factory': 627,\n",
              " 'africa': 628,\n",
              " 'museum': 629,\n",
              " 'matrix': 630,\n",
              " 'titans': 631,\n",
              " 'nation': 632,\n",
              " 'fu': 633,\n",
              " 'panda': 634,\n",
              " 'samurai': 635,\n",
              " 'weapon': 636,\n",
              " 'avenger': 637,\n",
              " 'enough': 638,\n",
              " 'far': 639,\n",
              " 'saga': 640,\n",
              " 'feet': 641,\n",
              " 'penguins': 642,\n",
              " 'prisoner': 643,\n",
              " 'r': 644,\n",
              " 'sherlock': 645,\n",
              " 'holmes': 646,\n",
              " 'warrior': 647,\n",
              " 'storm': 648,\n",
              " 'surfer': 649,\n",
              " 'full': 650,\n",
              " 'episode': 651,\n",
              " 'phantom': 652,\n",
              " \"winter's\": 653,\n",
              " \"ocean's\": 654,\n",
              " 'smith': 655,\n",
              " 'range': 656,\n",
              " 'control': 657,\n",
              " 'cat': 658,\n",
              " 'hat': 659,\n",
              " 'martian': 660,\n",
              " 'secrets': 661,\n",
              " 'casino': 662,\n",
              " 'expendables': 663,\n",
              " 'wall': 664,\n",
              " 'atlas': 665,\n",
              " 'break': 666,\n",
              " 'cinderella': 667,\n",
              " 'finding': 668,\n",
              " 'jackson': 669,\n",
              " 'beneath': 670,\n",
              " 'thunder': 671,\n",
              " 'cradle': 672,\n",
              " 'k': 673,\n",
              " 'heist': 674,\n",
              " 'enemy': 675,\n",
              " 'mirror': 676,\n",
              " 'cats': 677,\n",
              " 'impact': 678,\n",
              " 'longest': 679,\n",
              " 'give': 680,\n",
              " 'face': 681,\n",
              " 'off': 682,\n",
              " 'mountain': 683,\n",
              " 'conspiracy': 684,\n",
              " 'bear': 685,\n",
              " 'spirit': 686,\n",
              " '2000': 687,\n",
              " 'may': 688,\n",
              " 'come': 689,\n",
              " 'rocky': 690,\n",
              " 'extraordinary': 691,\n",
              " '50': 692,\n",
              " 'exorcist': 693,\n",
              " 'shark': 694,\n",
              " 'cool': 695,\n",
              " 'sun': 696,\n",
              " 'killers': 697,\n",
              " 'n': 698,\n",
              " 'anna': 699,\n",
              " 'flight': 700,\n",
              " 'punch': 701,\n",
              " 'gold': 702,\n",
              " 'doctor': 703,\n",
              " 'were': 704,\n",
              " 'has': 705,\n",
              " 'siege': 706,\n",
              " 'killer': 707,\n",
              " 'legends': 708,\n",
              " 'mystery': 709,\n",
              " 'lincoln': 710,\n",
              " 'private': 711,\n",
              " 'due': 712,\n",
              " 'center': 713,\n",
              " 'annie': 714,\n",
              " 'fight': 715,\n",
              " 'marshall': 716,\n",
              " 'frankenstein': 717,\n",
              " 'austin': 718,\n",
              " 'powers': 719,\n",
              " 'eight': 720,\n",
              " 'mile': 721,\n",
              " 'identity': 722,\n",
              " 'daughter': 723,\n",
              " 'weeks': 724,\n",
              " 'maze': 725,\n",
              " 'sunday': 726,\n",
              " 'resurrection': 727,\n",
              " '51': 728,\n",
              " 'mortal': 729,\n",
              " 'holy': 730,\n",
              " 'tall': 731,\n",
              " 'pursuit': 732,\n",
              " 'vol': 733,\n",
              " 'tango': 734,\n",
              " 'elizabeth': 735,\n",
              " 'muppets': 736,\n",
              " \"king's\": 737,\n",
              " 'law': 738,\n",
              " 'lose': 739,\n",
              " 'interview': 740,\n",
              " 'loaded': 741,\n",
              " 'ground': 742,\n",
              " 'beach': 743,\n",
              " 'raising': 744,\n",
              " 'steve': 745,\n",
              " 'letter': 746,\n",
              " 'fighter': 747,\n",
              " 'boat': 748,\n",
              " 'bone': 749,\n",
              " 'taken': 750,\n",
              " 'cable': 751,\n",
              " 'mary': 752,\n",
              " 'diaries': 753,\n",
              " 'royal': 754,\n",
              " 'quest': 755,\n",
              " 'english': 756,\n",
              " 'pretty': 757,\n",
              " 'miracle': 758,\n",
              " 'bounty': 759,\n",
              " 'gate': 760,\n",
              " '28': 761,\n",
              " 'sense': 762,\n",
              " 'fifty': 763,\n",
              " 'shades': 764,\n",
              " 'their': 765,\n",
              " 'network': 766,\n",
              " 'julia': 767,\n",
              " 'dumb': 768,\n",
              " 'below': 769,\n",
              " 'greek': 770,\n",
              " 'small': 771,\n",
              " 'horrible': 772,\n",
              " 'skeleton': 773,\n",
              " 'made': 774,\n",
              " 'music': 775,\n",
              " 'paul': 776,\n",
              " 'trip': 777,\n",
              " 'million': 778,\n",
              " 'morning': 779,\n",
              " 'extreme': 780,\n",
              " 'words': 781,\n",
              " 'grudge': 782,\n",
              " 'match': 783,\n",
              " 'single': 784,\n",
              " 'dolphin': 785,\n",
              " \"we're\": 786,\n",
              " 'dragons': 787,\n",
              " 'sorority': 788,\n",
              " 'banks': 789,\n",
              " 'lions': 790,\n",
              " 'femme': 791,\n",
              " 'desert': 792,\n",
              " 'father': 793,\n",
              " 'alive': 794,\n",
              " 'transporter': 795,\n",
              " 'attraction': 796,\n",
              " 'repo': 797,\n",
              " 'vacation': 798,\n",
              " 'remember': 799,\n",
              " 'hunt': 800,\n",
              " 'calls': 801,\n",
              " 'dollar': 802,\n",
              " 'rugrats': 803,\n",
              " 'fall': 804,\n",
              " 'hope': 805,\n",
              " 'sarah': 806,\n",
              " 'bottle': 807,\n",
              " 'mike': 808,\n",
              " 'naked': 809,\n",
              " 'rabbit': 810,\n",
              " 'yards': 811,\n",
              " 'pride': 812,\n",
              " 'cave': 813,\n",
              " 'united': 814,\n",
              " 'faith': 815,\n",
              " 'woodstock': 816,\n",
              " 'kick': 817,\n",
              " 'very': 818,\n",
              " 'prejudice': 819,\n",
              " 'door': 820,\n",
              " 'zombies': 821,\n",
              " 'vi': 822,\n",
              " 'blues': 823,\n",
              " 'noise': 824,\n",
              " 'happened': 825,\n",
              " 'o': 826,\n",
              " 'agent': 827,\n",
              " 'cody': 828,\n",
              " 'highlander': 829,\n",
              " 'jimmy': 830,\n",
              " 'genius': 831,\n",
              " 'bunny': 832,\n",
              " 'beauty': 833,\n",
              " 'grave': 834,\n",
              " 'august': 835,\n",
              " 'tora': 836,\n",
              " 'dear': 837,\n",
              " 'bright': 838,\n",
              " 'lords': 839,\n",
              " 'iv': 840,\n",
              " 'think': 841,\n",
              " 'fisher': 842,\n",
              " 'march': 843,\n",
              " 'jaws': 844,\n",
              " 'animal': 845,\n",
              " 'wimpy': 846,\n",
              " 'funeral': 847,\n",
              " 'molly': 848,\n",
              " 'song': 849,\n",
              " '12': 850,\n",
              " 'hole': 851,\n",
              " 'police': 852,\n",
              " 'chainsaw': 853,\n",
              " 'harold': 854,\n",
              " 'kumar': 855,\n",
              " 'psycho': 856,\n",
              " 'kills': 857,\n",
              " \"can't\": 858,\n",
              " 'horror': 859,\n",
              " 'las': 860,\n",
              " 'exorcism': 861,\n",
              " 'rose': 862,\n",
              " 'happens': 863,\n",
              " 'station': 864,\n",
              " 'anything': 865,\n",
              " \"let's\": 866,\n",
              " 'tales': 867,\n",
              " 'massacre': 868,\n",
              " 'teen': 869,\n",
              " 'cut': 870,\n",
              " 'place': 871,\n",
              " 'voice': 872,\n",
              " 'ones': 873,\n",
              " 'dude': 874,\n",
              " 'car': 875,\n",
              " 'effect': 876,\n",
              " 'project': 877,\n",
              " 'always': 878,\n",
              " 'purge': 879,\n",
              " 'insidious': 880,\n",
              " 'sugar': 881,\n",
              " 'heroes': 882,\n",
              " 'film': 883,\n",
              " 'hai': 884,\n",
              " '놈': 885,\n",
              " '000': 886,\n",
              " 'food': 887,\n",
              " 'falls': 888,\n",
              " 'kevin': 889,\n",
              " 'mother': 890,\n",
              " 'h': 891,\n",
              " 'east': 892,\n",
              " 'myers': 893,\n",
              " 'was': 894,\n",
              " 'shine': 895,\n",
              " 'lane': 896,\n",
              " 'billy': 897,\n",
              " 'together': 898,\n",
              " 'times': 899,\n",
              " 'giants': 900,\n",
              " 'roadside': 901,\n",
              " 'avengers': 902,\n",
              " 'justice': 903,\n",
              " 'ranger': 904,\n",
              " 'tides': 905,\n",
              " 'battleship': 906,\n",
              " 'extinction': 907,\n",
              " 'legacy': 908,\n",
              " 'salvation': 909,\n",
              " '7': 910,\n",
              " 'giant': 911,\n",
              " 'slayer': 912,\n",
              " 'sands': 913,\n",
              " 'dinosaur': 914,\n",
              " 'mummy': 915,\n",
              " 'emperor': 916,\n",
              " 'suicide': 917,\n",
              " 'squad': 918,\n",
              " 'almighty': 919,\n",
              " 'huntsman': 920,\n",
              " 'ronin': 921,\n",
              " 'winter': 922,\n",
              " 'ralph': 923,\n",
              " 'curious': 924,\n",
              " 'case': 925,\n",
              " 'benjamin': 926,\n",
              " 'class': 927,\n",
              " 'mockingjay': 928,\n",
              " 'third': 929,\n",
              " 'alexander': 930,\n",
              " 'order': 931,\n",
              " 'phoenix': 932,\n",
              " 'begins': 933,\n",
              " 'origins': 934,\n",
              " 'wolverine': 935,\n",
              " 'thor': 936,\n",
              " 'fury': 937,\n",
              " 'bee': 938,\n",
              " 'moms': 939,\n",
              " 'armageddon': 940,\n",
              " 'fun': 941,\n",
              " 'egypt': 942,\n",
              " 'lethal': 943,\n",
              " 'hulk': 944,\n",
              " 'within': 945,\n",
              " 'commander': 946,\n",
              " 'breaking': 947,\n",
              " 'incredible': 948,\n",
              " 'ant': 949,\n",
              " 'worlds': 950,\n",
              " 'p': 951,\n",
              " 'da': 952,\n",
              " 'rio': 953,\n",
              " 'silver': 954,\n",
              " 'pi': 955,\n",
              " \"charlie's\": 956,\n",
              " 'stuart': 957,\n",
              " 'riddick': 958,\n",
              " 'robocop': 959,\n",
              " 'attack': 960,\n",
              " 'menace': 961,\n",
              " 'gravity': 962,\n",
              " 'fantastic': 963,\n",
              " 'san': 964,\n",
              " 'patriot': 965,\n",
              " '300': 966,\n",
              " 'smurfs': 967,\n",
              " 'ring': 968,\n",
              " 'robot': 969,\n",
              " 'report': 970,\n",
              " 'judgment': 971,\n",
              " 'gangster': 972,\n",
              " 'taking': 973,\n",
              " 'fockers': 974,\n",
              " 'guys': 975,\n",
              " 'dame': 976,\n",
              " \"emperor's\": 977,\n",
              " 'treasure': 978,\n",
              " 'epic': 979,\n",
              " 'diamond': 980,\n",
              " 'troopers': 981,\n",
              " 'cloud': 982,\n",
              " 'hercules': 983,\n",
              " 'wives': 984,\n",
              " 'hawk': 985,\n",
              " 'fifth': 986,\n",
              " 'drift': 987,\n",
              " 'bones': 988,\n",
              " 'lara': 989,\n",
              " 'croft': 990,\n",
              " 'raider': 991,\n",
              " 'percy': 992,\n",
              " 'cloudy': 993,\n",
              " 'chance': 994,\n",
              " 'meatballs': 995,\n",
              " 'dinosaurs': 996,\n",
              " 'walter': 997,\n",
              " 'tattoo': 998,\n",
              " 'atlantis': 999,\n",
              " 'intelligence': 1000,\n",
              " ...}"
            ]
          },
          "metadata": {},
          "execution_count": 16
        }
      ]
    },
    {
      "cell_type": "code",
      "source": [
        "#we're taking every single list and we're cutting out all words except the\n",
        "# first word and in output we'll conatain words that are consecutive to \n",
        "#that word then we take first two words and in the output word that is \n",
        "#consecutive to both these words, we do so for every word\n",
        "\n",
        "X = []           #input data\n",
        "y = []           #output data\n",
        "\n",
        "total_words_dropped = 0\n",
        "\n",
        "for i in seq:  #iterarting over the sequence list(list of list) that's why double iteration\n",
        "    \n",
        "    if len(i) > 1: #only if the list contains more than one word\n",
        "        \n",
        "        for index in range(1, len(i)):\n",
        "            \n",
        "            X.append(i[:index]) #word appended till the index value to x\n",
        "            \n",
        "            y.append(i[index])  #word at index appended to y\n",
        "    \n",
        "    else:\n",
        "        \n",
        "        total_words_dropped += 1\n",
        "\n",
        "print(\"Total Single Words Dropped are:\", total_words_dropped)"
      ],
      "metadata": {
        "colab": {
          "base_uri": "https://localhost:8080/"
        },
        "id": "obukXR4ZawCY",
        "outputId": "02bc219b-afd8-4287-c94d-3c424b6a2e27"
      },
      "execution_count": 17,
      "outputs": [
        {
          "output_type": "stream",
          "name": "stdout",
          "text": [
            "Total Single Words Dropped are: 1003\n"
          ]
        }
      ]
    },
    {
      "cell_type": "code",
      "source": [
        "X[:5]"
      ],
      "metadata": {
        "colab": {
          "base_uri": "https://localhost:8080/"
        },
        "id": "esyHB3deay3m",
        "outputId": "2f66c0ae-558f-482b-f090-1b2a0aa0d6a4"
      },
      "execution_count": 18,
      "outputs": [
        {
          "output_type": "execute_result",
          "data": {
            "text/plain": [
              "[[210], [210, 2], [210, 2, 1], [210, 2, 1, 431], [210, 2, 1, 431, 47]]"
            ]
          },
          "metadata": {},
          "execution_count": 18
        }
      ]
    },
    {
      "cell_type": "code",
      "source": [
        "y[:5]"
      ],
      "metadata": {
        "colab": {
          "base_uri": "https://localhost:8080/"
        },
        "id": "_H3_1041a17a",
        "outputId": "f5b41e25-d190-4514-c9e6-3da4f70d0cad"
      },
      "execution_count": 19,
      "outputs": [
        {
          "output_type": "execute_result",
          "data": {
            "text/plain": [
              "[2, 1, 431, 47, 432]"
            ]
          },
          "metadata": {},
          "execution_count": 19
        }
      ]
    },
    {
      "cell_type": "code",
      "source": [
        "#padding the sequences to make the length of the lists uniform\n",
        "\n",
        "X = tf.keras.preprocessing.sequence.pad_sequences(X)"
      ],
      "metadata": {
        "id": "vBErrEUca4eL"
      },
      "execution_count": 20,
      "outputs": []
    },
    {
      "cell_type": "code",
      "source": [
        "X"
      ],
      "metadata": {
        "colab": {
          "base_uri": "https://localhost:8080/"
        },
        "id": "cMhHlHkFa6pH",
        "outputId": "d621b0ac-c55e-4dad-fc8b-7d0425456fa2"
      },
      "execution_count": 21,
      "outputs": [
        {
          "output_type": "execute_result",
          "data": {
            "text/plain": [
              "array([[  0,   0,   0, ...,   0,   0, 210],\n",
              "       [  0,   0,   0, ...,   0, 210,   2],\n",
              "       [  0,   0,   0, ..., 210,   2,   1],\n",
              "       ...,\n",
              "       [  0,   0,   0, ...,   0,   0,  14],\n",
              "       [  0,   0,   0, ...,   0,  14, 300],\n",
              "       [  0,   0,   0, ...,  14, 300,  11]], dtype=int32)"
            ]
          },
          "metadata": {},
          "execution_count": 21
        }
      ]
    },
    {
      "cell_type": "code",
      "source": [
        "X.shape"
      ],
      "metadata": {
        "colab": {
          "base_uri": "https://localhost:8080/"
        },
        "id": "T7kd77SBa8sQ",
        "outputId": "549bde18-3712-481f-96c9-d038ffaab36f"
      },
      "execution_count": 22,
      "outputs": [
        {
          "output_type": "execute_result",
          "data": {
            "text/plain": [
              "(8483, 14)"
            ]
          },
          "metadata": {},
          "execution_count": 22
        }
      ]
    },
    {
      "cell_type": "code",
      "source": [
        "#one hot encoding of y\n",
        "\n",
        "y = tf.keras.utils.to_categorical(y)"
      ],
      "metadata": {
        "id": "95NWBE_oa-sU"
      },
      "execution_count": 23,
      "outputs": []
    },
    {
      "cell_type": "code",
      "source": [
        "y"
      ],
      "metadata": {
        "colab": {
          "base_uri": "https://localhost:8080/"
        },
        "id": "vQ6tAXiRbCJr",
        "outputId": "afa72c61-4370-4f12-dc6f-cda2a6969953"
      },
      "execution_count": 24,
      "outputs": [
        {
          "output_type": "execute_result",
          "data": {
            "text/plain": [
              "array([[0., 0., 1., ..., 0., 0., 0.],\n",
              "       [0., 1., 0., ..., 0., 0., 0.],\n",
              "       [0., 0., 0., ..., 0., 0., 0.],\n",
              "       ...,\n",
              "       [0., 0., 0., ..., 0., 0., 0.],\n",
              "       [0., 0., 0., ..., 0., 0., 0.],\n",
              "       [0., 0., 0., ..., 0., 0., 0.]], dtype=float32)"
            ]
          },
          "metadata": {},
          "execution_count": 24
        }
      ]
    },
    {
      "cell_type": "code",
      "source": [
        "y.shape"
      ],
      "metadata": {
        "colab": {
          "base_uri": "https://localhost:8080/"
        },
        "id": "DteFJUIxbEV5",
        "outputId": "64360c37-2f88-4576-c957-8660acff3bfd"
      },
      "execution_count": 25,
      "outputs": [
        {
          "output_type": "execute_result",
          "data": {
            "text/plain": [
              "(8483, 5045)"
            ]
          },
          "metadata": {},
          "execution_count": 25
        }
      ]
    },
    {
      "cell_type": "code",
      "source": [
        "#total number of words our model knows\n",
        "\n",
        "vocab_size = len(tokenizer.word_index) + 1"
      ],
      "metadata": {
        "id": "pcrLITkObGiN"
      },
      "execution_count": 26,
      "outputs": []
    },
    {
      "cell_type": "code",
      "source": [
        "vocab_size"
      ],
      "metadata": {
        "colab": {
          "base_uri": "https://localhost:8080/"
        },
        "id": "MzcIIUqPbJV2",
        "outputId": "3652b88f-b90e-4925-f3ba-ea0e5543ceaa"
      },
      "execution_count": 27,
      "outputs": [
        {
          "output_type": "execute_result",
          "data": {
            "text/plain": [
              "5045"
            ]
          },
          "metadata": {},
          "execution_count": 27
        }
      ]
    },
    {
      "cell_type": "code",
      "source": [
        "#training th model\n",
        "\n",
        "#first layer is the embedding layer\n",
        "#then we've two LSTM layers each of 100 units\n",
        "#then a dense layer of 100 neurons\n",
        "#output layer with the same size as our vocab_size \n",
        "\n",
        "model = tf.keras.Sequential([\n",
        "    tf.keras.layers.Embedding(vocab_size, 14),\n",
        "    tf.keras.layers.LSTM(100, return_sequences=True),\n",
        "    tf.keras.layers.LSTM(100),\n",
        "    tf.keras.layers.Dense(100, activation='relu'),\n",
        "    tf.keras.layers.Dense(vocab_size, activation='softmax'),\n",
        "])"
      ],
      "metadata": {
        "id": "kVQq4xRCbLZT"
      },
      "execution_count": 28,
      "outputs": []
    },
    {
      "cell_type": "code",
      "source": [
        "model.summary()"
      ],
      "metadata": {
        "colab": {
          "base_uri": "https://localhost:8080/"
        },
        "id": "48VDGC6SbMve",
        "outputId": "90767dba-8293-4b24-8ff5-a264f21f8084"
      },
      "execution_count": 29,
      "outputs": [
        {
          "output_type": "stream",
          "name": "stdout",
          "text": [
            "Model: \"sequential\"\n",
            "_________________________________________________________________\n",
            " Layer (type)                Output Shape              Param #   \n",
            "=================================================================\n",
            " embedding (Embedding)       (None, None, 14)          70630     \n",
            "                                                                 \n",
            " lstm (LSTM)                 (None, None, 100)         46000     \n",
            "                                                                 \n",
            " lstm_1 (LSTM)               (None, 100)               80400     \n",
            "                                                                 \n",
            " dense (Dense)               (None, 100)               10100     \n",
            "                                                                 \n",
            " dense_1 (Dense)             (None, 5045)              509545    \n",
            "                                                                 \n",
            "=================================================================\n",
            "Total params: 716,675\n",
            "Trainable params: 716,675\n",
            "Non-trainable params: 0\n",
            "_________________________________________________________________\n"
          ]
        }
      ]
    },
    {
      "cell_type": "code",
      "source": [
        "#compilation process with the required parameters\n",
        "\n",
        "model.compile(\n",
        "    optimizer=tf.keras.optimizers.Adam(learning_rate=0.004), \n",
        "    loss='categorical_crossentropy', \n",
        "    metrics=['accuracy'])"
      ],
      "metadata": {
        "id": "iDyvKvacbRFg"
      },
      "execution_count": 30,
      "outputs": []
    },
    {
      "cell_type": "code",
      "source": [
        "#fitting the model with our input(x) and output ararys(y)\n",
        "#our data contains some noise too\n",
        "\n",
        "model.fit(X, y, epochs=20)"
      ],
      "metadata": {
        "colab": {
          "base_uri": "https://localhost:8080/"
        },
        "id": "rpUi1KmTbSgC",
        "outputId": "4b801be5-655b-45be-e15f-9dfb36798c63"
      },
      "execution_count": 54,
      "outputs": [
        {
          "output_type": "stream",
          "name": "stdout",
          "text": [
            "Epoch 1/20\n",
            "266/266 [==============================] - 13s 48ms/step - loss: 1.4395 - accuracy: 0.6434\n",
            "Epoch 2/20\n",
            "266/266 [==============================] - 13s 47ms/step - loss: 1.4598 - accuracy: 0.6390\n",
            "Epoch 3/20\n",
            "266/266 [==============================] - 13s 48ms/step - loss: 1.4768 - accuracy: 0.6333\n",
            "Epoch 4/20\n",
            "266/266 [==============================] - 12s 47ms/step - loss: 1.4563 - accuracy: 0.6398\n",
            "Epoch 5/20\n",
            "266/266 [==============================] - 12s 46ms/step - loss: 1.4450 - accuracy: 0.6398\n",
            "Epoch 6/20\n",
            "266/266 [==============================] - 12s 45ms/step - loss: 1.4434 - accuracy: 0.6432\n",
            "Epoch 7/20\n",
            "266/266 [==============================] - 13s 47ms/step - loss: 1.4393 - accuracy: 0.6441\n",
            "Epoch 8/20\n",
            "266/266 [==============================] - 12s 46ms/step - loss: 1.4386 - accuracy: 0.6423\n",
            "Epoch 9/20\n",
            "266/266 [==============================] - 12s 47ms/step - loss: 1.4643 - accuracy: 0.6346\n",
            "Epoch 10/20\n",
            "266/266 [==============================] - 13s 47ms/step - loss: 1.4777 - accuracy: 0.6320\n",
            "Epoch 11/20\n",
            "266/266 [==============================] - 13s 48ms/step - loss: 1.4654 - accuracy: 0.6328\n",
            "Epoch 12/20\n",
            "266/266 [==============================] - 13s 47ms/step - loss: 1.4753 - accuracy: 0.6360\n",
            "Epoch 13/20\n",
            "266/266 [==============================] - 13s 47ms/step - loss: 1.4697 - accuracy: 0.6349\n",
            "Epoch 14/20\n",
            "266/266 [==============================] - 13s 48ms/step - loss: 1.4341 - accuracy: 0.6422\n",
            "Epoch 15/20\n",
            "266/266 [==============================] - 13s 48ms/step - loss: 1.4275 - accuracy: 0.6443\n",
            "Epoch 16/20\n",
            "266/266 [==============================] - 12s 47ms/step - loss: 1.4138 - accuracy: 0.6481\n",
            "Epoch 17/20\n",
            "266/266 [==============================] - 13s 47ms/step - loss: 1.4298 - accuracy: 0.6473\n",
            "Epoch 18/20\n",
            "266/266 [==============================] - 12s 47ms/step - loss: 1.4670 - accuracy: 0.6339\n",
            "Epoch 19/20\n",
            "266/266 [==============================] - 12s 47ms/step - loss: 1.4450 - accuracy: 0.6416\n",
            "Epoch 20/20\n",
            "266/266 [==============================] - 12s 47ms/step - loss: 1.4206 - accuracy: 0.6468\n"
          ]
        },
        {
          "output_type": "execute_result",
          "data": {
            "text/plain": [
              "<keras.callbacks.History at 0x7f2ed8db7370>"
            ]
          },
          "metadata": {},
          "execution_count": 54
        }
      ]
    },
    {
      "cell_type": "code",
      "source": [
        "model.save('nwp.h5')"
      ],
      "metadata": {
        "id": "Cbca69dqceHf"
      },
      "execution_count": 33,
      "outputs": []
    },
    {
      "cell_type": "code",
      "source": [
        "#testing\n",
        "\n",
        "vocab_array = np.array(list(tokenizer.word_index.keys()))"
      ],
      "metadata": {
        "id": "rqlML2ggcioa"
      },
      "execution_count": 46,
      "outputs": []
    },
    {
      "cell_type": "code",
      "source": [
        "vocab_array"
      ],
      "metadata": {
        "colab": {
          "base_uri": "https://localhost:8080/"
        },
        "id": "VHiVqckvcldK",
        "outputId": "edba26a9-2a52-447a-edfb-3568af1d8188"
      },
      "execution_count": 47,
      "outputs": [
        {
          "output_type": "execute_result",
          "data": {
            "text/plain": [
              "array(['the', 'of', 'a', ..., 'signed', 'sealed', 'delivered'],\n",
              "      dtype='<U14')"
            ]
          },
          "metadata": {},
          "execution_count": 47
        }
      ]
    },
    {
      "cell_type": "code",
      "source": [
        "#the make prediction function take text as input and the number of words upto which you want he prediction\n",
        "\n",
        "def make_prediction(text, n_words):\n",
        "\n",
        "  #so we run the for loop the number of times we want the number of words after the given word\n",
        "\n",
        "  for i in range(n_words):\n",
        "\n",
        "    #same preprocessing that we did on our training data \n",
        "\n",
        "    text_tokenize = tokenizer.texts_to_sequences([text])\n",
        "    text_padded = tf.keras.preprocessing.sequence.pad_sequences(text_tokenize,maxlen=14)\n",
        "\n",
        "    #we'll do prediction using model.predict that will return an array of proabability \n",
        "    #np.argamx will give us the index of the highest probability\n",
        "\n",
        "    prediction = np.squeeze(np.argmax(model.predict(text_padded),axis=-1))\n",
        "\n",
        "    #converting that value obtained from argmax to word\n",
        "    #our dictionary starts from number 1 , -1 takes care of that\n",
        "\n",
        "    prediction = str(vocab_array[prediction-1])\n",
        "\n",
        "    #adding the predicted text to the text we passed\n",
        "\n",
        "    text+=\" \" + prediction\n",
        "    \n",
        "  return text"
      ],
      "metadata": {
        "id": "ggjCSeOBcqhu"
      },
      "execution_count": 48,
      "outputs": []
    },
    {
      "cell_type": "code",
      "source": [
        "make_prediction(\"pirates\",3)"
      ],
      "metadata": {
        "colab": {
          "base_uri": "https://localhost:8080/",
          "height": 88
        },
        "id": "YO9H73N7etqc",
        "outputId": "274ba68f-e7a9-4cdd-dc4f-a7432544fe8f"
      },
      "execution_count": 49,
      "outputs": [
        {
          "output_type": "stream",
          "name": "stdout",
          "text": [
            "1/1 [==============================] - 0s 26ms/step\n",
            "1/1 [==============================] - 0s 26ms/step\n",
            "1/1 [==============================] - 0s 25ms/step\n"
          ]
        },
        {
          "output_type": "execute_result",
          "data": {
            "text/plain": [
              "'pirates of the caribbean'"
            ],
            "application/vnd.google.colaboratory.intrinsic+json": {
              "type": "string"
            }
          },
          "metadata": {},
          "execution_count": 49
        }
      ]
    },
    {
      "cell_type": "code",
      "source": [
        "make_prediction(\"harry\",5)"
      ],
      "metadata": {
        "colab": {
          "base_uri": "https://localhost:8080/",
          "height": 122
        },
        "id": "A7J1iI_eg-tq",
        "outputId": "f4977ee6-a37c-4c76-adb4-e666dec061fd"
      },
      "execution_count": 43,
      "outputs": [
        {
          "output_type": "stream",
          "name": "stdout",
          "text": [
            "1/1 [==============================] - 0s 36ms/step\n",
            "1/1 [==============================] - 0s 35ms/step\n",
            "1/1 [==============================] - 0s 36ms/step\n",
            "1/1 [==============================] - 0s 41ms/step\n",
            "1/1 [==============================] - 0s 39ms/step\n"
          ]
        },
        {
          "output_type": "execute_result",
          "data": {
            "text/plain": [
              "'harry potter and the goblet of'"
            ],
            "application/vnd.google.colaboratory.intrinsic+json": {
              "type": "string"
            }
          },
          "metadata": {},
          "execution_count": 43
        }
      ]
    },
    {
      "cell_type": "code",
      "source": [
        "make_prediction(\"cloudy\",5)"
      ],
      "metadata": {
        "colab": {
          "base_uri": "https://localhost:8080/",
          "height": 122
        },
        "id": "PIyCgw9Ql7U8",
        "outputId": "2aa1a209-6f62-4901-b973-d8304a06c8de"
      },
      "execution_count": 52,
      "outputs": [
        {
          "output_type": "stream",
          "name": "stdout",
          "text": [
            "1/1 [==============================] - 0s 39ms/step\n",
            "1/1 [==============================] - 0s 38ms/step\n",
            "1/1 [==============================] - 0s 40ms/step\n",
            "1/1 [==============================] - 0s 34ms/step\n",
            "1/1 [==============================] - 0s 36ms/step\n"
          ]
        },
        {
          "output_type": "execute_result",
          "data": {
            "text/plain": [
              "'cloudy with a chance of meatballs'"
            ],
            "application/vnd.google.colaboratory.intrinsic+json": {
              "type": "string"
            }
          },
          "metadata": {},
          "execution_count": 52
        }
      ]
    }
  ]
}